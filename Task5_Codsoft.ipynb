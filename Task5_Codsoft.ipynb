{
  "nbformat": 4,
  "nbformat_minor": 0,
  "metadata": {
    "colab": {
      "provenance": [],
      "authorship_tag": "ABX9TyNj++uTocn2KxOfn7XZqG2p",
      "include_colab_link": true
    },
    "kernelspec": {
      "name": "python3",
      "display_name": "Python 3"
    },
    "language_info": {
      "name": "python"
    }
  },
  "cells": [
    {
      "cell_type": "markdown",
      "metadata": {
        "id": "view-in-github",
        "colab_type": "text"
      },
      "source": [
        "<a href=\"https://colab.research.google.com/github/YuktaRajput07/CODSOFT/blob/main/Task5_Codsoft.ipynb\" target=\"_parent\"><img src=\"https://colab.research.google.com/assets/colab-badge.svg\" alt=\"Open In Colab\"/></a>"
      ]
    },
    {
      "cell_type": "code",
      "execution_count": null,
      "metadata": {
        "colab": {
          "base_uri": "https://localhost:8080/"
        },
        "id": "MpSfIgdb4c15",
        "outputId": "1aae7066-5ba3-4c3b-b538-b6d0dbd021e0"
      },
      "outputs": [
        {
          "output_type": "stream",
          "name": "stdout",
          "text": [
            "       Time        V1        V2        V3        V4        V5        V6  \\\n",
            "0         0 -1.359807 -0.072781  2.536347  1.378155 -0.338321  0.462388   \n",
            "1         0  1.191857  0.266151  0.166480  0.448154  0.060018 -0.082361   \n",
            "2         1 -1.358354 -1.340163  1.773209  0.379780 -0.503198  1.800499   \n",
            "3         1 -0.966272 -0.185226  1.792993 -0.863291 -0.010309  1.247203   \n",
            "4         2 -1.158233  0.877737  1.548718  0.403034 -0.407193  0.095921   \n",
            "...     ...       ...       ...       ...       ...       ...       ...   \n",
            "9960  14837  1.286884 -0.124610  0.148283 -0.259343  0.248357  0.896718   \n",
            "9961  14854  1.318742  0.496408  0.114876  0.695262  0.170133 -0.537180   \n",
            "9962  14857  1.241757  0.419587  0.806183  0.894811 -0.507886 -1.118126   \n",
            "9963  14861  1.304800 -0.052885  0.415235 -0.081725 -0.223525  0.097752   \n",
            "9964  14864 -1.747939  3.712444       NaN       NaN       NaN       NaN   \n",
            "\n",
            "            V7        V8        V9  ...       V21       V22       V23  \\\n",
            "0     0.239599  0.098698  0.363787  ... -0.018307  0.277838 -0.110474   \n",
            "1    -0.078803  0.085102 -0.255425  ... -0.225775 -0.638672  0.101288   \n",
            "2     0.791461  0.247676 -1.514654  ...  0.247998  0.771679  0.909412   \n",
            "3     0.237609  0.377436 -1.387024  ... -0.108300  0.005274 -0.190321   \n",
            "4     0.592941 -0.270533  0.817739  ... -0.009431  0.798278 -0.137458   \n",
            "...        ...       ...       ...  ...       ...       ...       ...   \n",
            "9960 -0.626627  0.227693  1.618678  ... -0.381864 -0.904515 -0.027985   \n",
            "9961  0.025492 -0.272931  1.267298  ... -0.484943 -1.111176  0.028259   \n",
            "9962  0.018908 -0.343335  1.210781  ... -0.379396 -0.817785  0.181425   \n",
            "9963 -0.561240  0.067228  1.617203  ... -0.379597 -0.929204  0.020955   \n",
            "9964       NaN       NaN       NaN  ...       NaN       NaN       NaN   \n",
            "\n",
            "           V24       V25       V26       V27       V28  Amount  Class  \n",
            "0     0.066928  0.128539 -0.189115  0.133558 -0.021053  149.62    0.0  \n",
            "1    -0.339846  0.167170  0.125895 -0.008983  0.014724    2.69    0.0  \n",
            "2    -0.689281 -0.327642 -0.139097 -0.055353 -0.059752  378.66    0.0  \n",
            "3    -1.175575  0.647376 -0.221929  0.062723  0.061458  123.50    0.0  \n",
            "4     0.141267 -0.206010  0.502292  0.219422  0.215153   69.99    0.0  \n",
            "...        ...       ...       ...       ...       ...     ...    ...  \n",
            "9960 -1.743540  0.090885  0.870425 -0.084116 -0.022744   12.18    0.0  \n",
            "9961 -0.549934  0.328634  0.106061 -0.046154  0.017304    1.78    0.0  \n",
            "9962  0.662879  0.172535  0.033636 -0.051084  0.017208    1.29    0.0  \n",
            "9963 -0.877006  0.084384  0.807465 -0.099851 -0.015404    4.72    0.0  \n",
            "9964       NaN       NaN       NaN       NaN       NaN     NaN    NaN  \n",
            "\n",
            "[9965 rows x 31 columns]\n"
          ]
        }
      ],
      "source": [
        "import pandas as pd\n",
        "data = pd.read_csv(\"/content/creditcard.csv\")\n",
        "print(data)"
      ]
    },
    {
      "cell_type": "code",
      "source": [
        "print(data['Class'].value_counts())"
      ],
      "metadata": {
        "colab": {
          "base_uri": "https://localhost:8080/"
        },
        "id": "7rPC7Hu36RAI",
        "outputId": "d38c0040-ec3c-4e02-fe8d-e83b76690cf2"
      },
      "execution_count": null,
      "outputs": [
        {
          "output_type": "stream",
          "name": "stdout",
          "text": [
            "Class\n",
            "0.0    9926\n",
            "1.0      38\n",
            "Name: count, dtype: int64\n"
          ]
        }
      ]
    },
    {
      "cell_type": "code",
      "source": [
        "from sklearn.preprocessing import StandardScaler\n",
        "scaler = StandardScaler()\n",
        "data['Amount'] = scaler.fit_transform(data[['Amount']])"
      ],
      "metadata": {
        "id": "pKot8BVF6YQd"
      },
      "execution_count": null,
      "outputs": []
    },
    {
      "cell_type": "code",
      "source": [
        "X = data.drop('Class', axis=1)\n",
        "y = data['Class']"
      ],
      "metadata": {
        "id": "ay6uf0Dc6eOe"
      },
      "execution_count": null,
      "outputs": []
    },
    {
      "cell_type": "code",
      "source": [
        "data_resampled = pd.concat([X, y], axis=1)\n",
        "fraud = data_resampled[data_resampled['Class'] == 1]\n",
        "genuine = data_resampled[data_resampled['Class'] == 0]"
      ],
      "metadata": {
        "id": "bKWJ7ccF6hYg"
      },
      "execution_count": null,
      "outputs": []
    },
    {
      "cell_type": "code",
      "source": [
        "from sklearn.utils import resample\n",
        "genuine_undersampled = resample(genuine,\n",
        "                                replace=False,\n",
        "                                n_samples=len(fraud),\n",
        "                                random_state=42)\n",
        "data_balanced = pd.concat([fraud, genuine_undersampled])"
      ],
      "metadata": {
        "id": "R77GQVjC6k6E"
      },
      "execution_count": null,
      "outputs": []
    },
    {
      "cell_type": "code",
      "source": [
        "from sklearn.model_selection import train_test_split\n",
        "from sklearn.linear_model import LogisticRegression\n",
        "X_balanced = data_balanced.drop('Class', axis=1)\n",
        "y_balanced = data_balanced['Class']\n",
        "X_train, X_test, y_train, y_test = train_test_split(X_balanced, y_balanced, test_size=0.2, random_state=42)\n",
        "model = LogisticRegression(max_iter=1000)\n",
        "model.fit(X_train, y_train)\n",
        "y_pred = model.predict(X_test)"
      ],
      "metadata": {
        "id": "92ojNPKv6njX"
      },
      "execution_count": null,
      "outputs": []
    },
    {
      "cell_type": "code",
      "source": [
        "from sklearn.metrics import classification_report, accuracy_score, confusion_matrix\n",
        "print(\"Classification Report:\\n\", classification_report(y_test, y_pred))\n",
        "print(\"Confusion Matrix:\\n\", confusion_matrix(y_test, y_pred))\n",
        "print(\"Accuracy Score:\", accuracy_score(y_test, y_pred))"
      ],
      "metadata": {
        "colab": {
          "base_uri": "https://localhost:8080/"
        },
        "id": "ygUSJWsV6qvR",
        "outputId": "177fca5d-a2db-4ae2-8830-bcf00f3187ff"
      },
      "execution_count": null,
      "outputs": [
        {
          "output_type": "stream",
          "name": "stdout",
          "text": [
            "Classification Report:\n",
            "               precision    recall  f1-score   support\n",
            "\n",
            "         0.0       1.00      1.00      1.00         8\n",
            "         1.0       1.00      1.00      1.00         8\n",
            "\n",
            "    accuracy                           1.00        16\n",
            "   macro avg       1.00      1.00      1.00        16\n",
            "weighted avg       1.00      1.00      1.00        16\n",
            "\n",
            "Confusion Matrix:\n",
            " [[8 0]\n",
            " [0 8]]\n",
            "Accuracy Score: 1.0\n"
          ]
        }
      ]
    },
    {
      "cell_type": "code",
      "source": [
        "from sklearn.ensemble import RandomForestClassifier\n",
        "rf_model = RandomForestClassifier(random_state=42)\n",
        "rf_model.fit(X_train, y_train)\n",
        "y_pred_rf = rf_model.predict(X_test)"
      ],
      "metadata": {
        "id": "LjzSsewf6uy9"
      },
      "execution_count": null,
      "outputs": []
    },
    {
      "cell_type": "code",
      "source": [
        "print(\"\\nRandom Forest Classification Report:\\n\", classification_report(y_test, y_pred_rf))\n",
        "print(\"Random Forest Confusion Matrix:\\n\", confusion_matrix(y_test, y_pred_rf))\n",
        "print(\"Random Forest Accuracy Score:\", accuracy_score(y_test, y_pred_rf))"
      ],
      "metadata": {
        "colab": {
          "base_uri": "https://localhost:8080/"
        },
        "id": "oZE0ew_n60j9",
        "outputId": "33c10f6b-46c9-44cd-8cd7-69d410e805cf"
      },
      "execution_count": null,
      "outputs": [
        {
          "output_type": "stream",
          "name": "stdout",
          "text": [
            "\n",
            "Random Forest Classification Report:\n",
            "               precision    recall  f1-score   support\n",
            "\n",
            "         0.0       1.00      1.00      1.00         8\n",
            "         1.0       1.00      1.00      1.00         8\n",
            "\n",
            "    accuracy                           1.00        16\n",
            "   macro avg       1.00      1.00      1.00        16\n",
            "weighted avg       1.00      1.00      1.00        16\n",
            "\n",
            "Random Forest Confusion Matrix:\n",
            " [[8 0]\n",
            " [0 8]]\n",
            "Random Forest Accuracy Score: 1.0\n"
          ]
        }
      ]
    }
  ]
}