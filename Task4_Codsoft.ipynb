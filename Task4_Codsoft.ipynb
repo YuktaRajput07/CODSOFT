{
  "nbformat": 4,
  "nbformat_minor": 0,
  "metadata": {
    "colab": {
      "provenance": [],
      "authorship_tag": "ABX9TyOo9qW44OPQp+1MLysxlD9f",
      "include_colab_link": true
    },
    "kernelspec": {
      "name": "python3",
      "display_name": "Python 3"
    },
    "language_info": {
      "name": "python"
    }
  },
  "cells": [
    {
      "cell_type": "markdown",
      "metadata": {
        "id": "view-in-github",
        "colab_type": "text"
      },
      "source": [
        "<a href=\"https://colab.research.google.com/github/YuktaRajput07/CODSOFT/blob/main/Task4_Codsoft.ipynb\" target=\"_parent\"><img src=\"https://colab.research.google.com/assets/colab-badge.svg\" alt=\"Open In Colab\"/></a>"
      ]
    },
    {
      "cell_type": "code",
      "execution_count": null,
      "metadata": {
        "colab": {
          "base_uri": "https://localhost:8080/"
        },
        "id": "RsShAPKA2TNW",
        "outputId": "acd90c3a-a9b5-4a13-85a4-1b6dac1a77e8"
      },
      "outputs": [
        {
          "output_type": "stream",
          "name": "stdout",
          "text": [
            "<class 'pandas.core.frame.DataFrame'>\n",
            "RangeIndex: 200 entries, 0 to 199\n",
            "Data columns (total 4 columns):\n",
            " #   Column     Non-Null Count  Dtype  \n",
            "---  ------     --------------  -----  \n",
            " 0   TV         200 non-null    float64\n",
            " 1   Radio      200 non-null    float64\n",
            " 2   Newspaper  200 non-null    float64\n",
            " 3   Sales      200 non-null    float64\n",
            "dtypes: float64(4)\n",
            "memory usage: 6.4 KB\n"
          ]
        }
      ],
      "source": [
        "import pandas as pd\n",
        "data = pd.read_csv(\"/content/advertising.csv\")\n",
        "data.info()"
      ]
    },
    {
      "cell_type": "code",
      "source": [
        "from sklearn.model_selection import train_test_split\n",
        "from sklearn.ensemble import RandomForestRegressor\n",
        "X = data.drop(columns=[\"Sales\"])\n",
        "y = data[\"Sales\"]\n",
        "X_train, X_test, y_train, y_test = train_test_split(X, y, test_size=0.3, random_state=42)\n",
        "model = RandomForestRegressor(random_state=42)\n",
        "model.fit(X_train, y_train)\n",
        "y_pred = model.predict(X_test)"
      ],
      "metadata": {
        "id": "AczCLJJw3sim"
      },
      "execution_count": null,
      "outputs": []
    },
    {
      "cell_type": "code",
      "source": [
        "from sklearn.metrics import mean_squared_error, r2_score\n",
        "mse = mean_squared_error(y_test, y_pred)\n",
        "r2 = r2_score(y_test, y_pred)\n",
        "print(\"Mean Squared Error:\", mse)\n",
        "print(\"R-squared Score:\", r2)\n",
        "results = pd.DataFrame({\"Actual\": y_test, \"Predicted\": y_pred})\n",
        "print(\"\\nPredictions vs Actual:\\n\", results)"
      ],
      "metadata": {
        "colab": {
          "base_uri": "https://localhost:8080/"
        },
        "id": "UMDX1PUj37b-",
        "outputId": "bff104af-4e86-4d67-bd04-a96a5e36c7f6"
      },
      "execution_count": null,
      "outputs": [
        {
          "output_type": "stream",
          "name": "stdout",
          "text": [
            "Mean Squared Error: 1.6727277166666688\n",
            "R-squared Score: 0.9402075483725679\n",
            "\n",
            "Predictions vs Actual:\n",
            "      Actual  Predicted\n",
            "95     16.9     17.476\n",
            "15     22.4     22.289\n",
            "30     21.4     19.844\n",
            "158     7.3      6.517\n",
            "128    24.7     22.701\n",
            "115    12.6     13.666\n",
            "69     22.3     22.652\n",
            "170     8.4      9.591\n",
            "174    16.5     17.258\n",
            "45     16.1     16.940\n",
            "66     11.0      8.132\n",
            "182     8.7     11.083\n",
            "165    16.9     17.588\n",
            "78      5.3      4.818\n",
            "186    10.3     12.099\n",
            "177    16.7     17.102\n",
            "56      5.5      5.836\n",
            "152    16.6     17.702\n",
            "82     11.3     11.875\n",
            "68     18.9     19.703\n",
            "124    19.7     19.889\n",
            "16     12.5     13.333\n",
            "148    10.9     10.571\n",
            "93     22.2     21.578\n",
            "65     11.3     10.983\n",
            "60      8.1     10.705\n",
            "84     21.7     22.791\n",
            "67     13.4     12.378\n",
            "125    10.6     11.706\n",
            "132     5.7      5.201\n",
            "9      15.6     16.721\n",
            "18     11.3     11.555\n",
            "55     23.7     22.955\n",
            "75      8.7     10.254\n",
            "150    16.1     19.905\n",
            "104    20.7     20.032\n",
            "135    11.6     11.138\n",
            "137    20.8     19.497\n",
            "164    11.9     12.628\n",
            "76      6.9      7.133\n",
            "79     11.0     12.475\n",
            "197    14.8     17.537\n",
            "38     10.1     10.036\n",
            "24      9.7     10.425\n",
            "122    16.6     16.934\n",
            "195     7.6      9.650\n",
            "29     10.5     10.967\n",
            "19     14.6     13.274\n",
            "143    10.4     12.629\n",
            "86     12.0     12.839\n",
            "114    14.6     13.782\n",
            "173    16.7     17.530\n",
            "5       7.2      7.342\n",
            "126     6.6      6.288\n",
            "117     9.4     11.928\n",
            "73     11.0     12.845\n",
            "140    10.9     11.968\n",
            "98     25.4     25.243\n",
            "172     7.6      6.869\n",
            "96     16.7     16.947\n"
          ]
        }
      ]
    }
  ]
}